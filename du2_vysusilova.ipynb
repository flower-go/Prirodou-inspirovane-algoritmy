{
  "nbformat": 4,
  "nbformat_minor": 0,
  "metadata": {
    "colab": {
      "name": "du2_vysusilova.ipynb",
      "private_outputs": true,
      "provenance": [],
      "collapsed_sections": [],
      "mount_file_id": "12PS4NkMsz5edwJSTqw2k-qzR5w60Q3IV",
      "authorship_tag": "ABX9TyN3HZyhLb0ehlYY+Ih23HdE",
      "include_colab_link": true
    },
    "kernelspec": {
      "name": "python3",
      "display_name": "Python 3"
    },
    "language_info": {
      "name": "python"
    },
    "accelerator": "GPU"
  },
  "cells": [
    {
      "cell_type": "markdown",
      "metadata": {
        "id": "view-in-github",
        "colab_type": "text"
      },
      "source": [
        "<a href=\"https://colab.research.google.com/github/flower-go/Prirodou-inspirovane-algoritmy/blob/master/du2_vysusilova.ipynb\" target=\"_parent\"><img src=\"https://colab.research.google.com/assets/colab-badge.svg\" alt=\"Open In Colab\"/></a>"
      ]
    },
    {
      "cell_type": "code",
      "metadata": {
        "id": "alHWstSocqZO"
      },
      "source": [
        "import random\n",
        "#import tensorflow as tf\n",
        "import tensorflow as tf\n",
        "import matplotlib.pyplot as plt\n",
        "%matplotlib inline\n",
        "from tensorflow.keras.datasets import cifar10, mnist,  fashion_mnist\n",
        "from tensorflow.keras.layers import InputLayer\n",
        "from tensorflow.keras.layers import Conv2D\n",
        "from tensorflow.keras.layers import MaxPool2D\n",
        "from tensorflow.keras.layers import Flatten\n",
        "from tensorflow.keras.layers import Dense\n",
        "from tensorflow.keras.layers import Activation\n",
        "from tensorflow.keras.activations import linear, relu\n",
        "#from tensorflow.nn import softmax\n",
        "\n",
        "#import cleverhans.attacks\n",
        "\n",
        "from keras.preprocessing.image import load_img\n",
        "from keras.preprocessing.image import img_to_array\n",
        "from keras.applications.vgg16 import preprocess_input\n",
        "from keras.applications.vgg16 import decode_predictions\n",
        "from keras.layers import Input\n",
        "\n",
        "import numpy as np\n",
        "\n",
        "from os import listdir\n",
        "from os.path import isfile, join\n",
        "\n",
        "import PIL\n",
        "print('Pillow Version:', PIL.__version__)\n",
        "from PIL import Image"
      ],
      "execution_count": null,
      "outputs": []
    },
    {
      "cell_type": "code",
      "metadata": {
        "id": "E5vRES2pcssP"
      },
      "source": [
        "#nacteni ze zipu\n",
        "from zipfile import ZipFile\n",
        "from os.path import basename\n",
        "import os\n",
        "path_to_zip_file = \"./dataset.zip\"\n",
        "with ZipFile(path_to_zip_file, 'r') as zip_ref:\n",
        "    zip_ref.extractall(\".\")"
      ],
      "execution_count": null,
      "outputs": []
    },
    {
      "cell_type": "code",
      "metadata": {
        "id": "Hz8p4GHCcycw"
      },
      "source": [
        "#path = mypath + \"/final/dataset/\"\n",
        "mypath = \"./dataset/\"\n",
        "y_train = np.genfromtxt (mypath + \"train/labels_train.csv\", delimiter=\"\\n\", dtype=np.int32)\n",
        "y_test = np.genfromtxt (mypath + \"test/labels_test.csv\", delimiter=\"\\n\", dtype=np.int32)"
      ],
      "execution_count": null,
      "outputs": []
    },
    {
      "cell_type": "code",
      "metadata": {
        "id": "hqxvHHdSgJAw"
      },
      "source": [
        "def load_data(name):\n",
        "    #path = mypath + \"/final/dataset/\" + name + \"/\"\n",
        "    path = mypath + name + \"/\"\n",
        "    x_images = [f for f in listdir(path) if isfile(join(path, f)) and f[0] != \".\" and f.split(\".\")[1] != \"csv\"]\n",
        "    x = []\n",
        "    for i in x_images:\n",
        "        image = Image.open(path + i)\n",
        "        image = np.asarray(image)\n",
        "        x.append(image)\n",
        "    x = np.asarray(x)\n",
        "    return x"
      ],
      "execution_count": null,
      "outputs": []
    },
    {
      "cell_type": "code",
      "metadata": {
        "id": "mWyS5WkMgMHO"
      },
      "source": [
        "x_train = load_data(\"train\")\n",
        "x_test = load_data(\"test\")"
      ],
      "execution_count": null,
      "outputs": []
    },
    {
      "cell_type": "code",
      "metadata": {
        "id": "wUoIgsNRgOjn"
      },
      "source": [
        "x_train = preprocess_input(x_train)\n",
        "x_test = preprocess_input(x_test)"
      ],
      "execution_count": null,
      "outputs": []
    },
    {
      "cell_type": "markdown",
      "metadata": {
        "id": "ZWb_FP6AglZq"
      },
      "source": [
        "Model"
      ]
    },
    {
      "cell_type": "code",
      "metadata": {
        "id": "jbdXo23wgpWS"
      },
      "source": [
        "from keras.applications.vgg16 import VGG16\n",
        "vgg_model = VGG16(weights=\"imagenet\", include_top=False)\n",
        "inputShape = (224,224)\n",
        "preprocess = preprocess_input\n",
        "from keras.models import Sequential\n",
        "from keras.layers import Input, UpSampling2D, Flatten, BatchNormalization, Dense, Dropout, GlobalAveragePooling2D\n",
        "for layer in vgg_model.layers:\n",
        "    if isinstance(layer, BatchNormalization):\n",
        "        layer.trainable = True\n",
        "    else:\n",
        "        layer.trainable = False\n",
        "num_classes = 5\n",
        "model = Sequential()\n",
        "model.add(UpSampling2D())\n",
        "model.add(UpSampling2D())\n",
        "model.add(UpSampling2D())\n",
        "model.add(vgg_model)\n",
        "model.add(GlobalAveragePooling2D())\n",
        "model.add(Dense(256, activation='relu'))\n",
        "model.add(Dropout(.2))\n",
        "model.add(BatchNormalization())\n",
        "model.add(Dense(num_classes, activation='softmax'))"
      ],
      "execution_count": null,
      "outputs": []
    },
    {
      "cell_type": "code",
      "metadata": {
        "id": "iEu90NuPgwms"
      },
      "source": [
        "from keras.utils import to_categorical\n",
        "model.compile(loss='categorical_crossentropy',optimizer='adam',metrics=['accuracy'])\n",
        "model.fit(x=x_train, y=to_categorical(y_train), epochs=40, validation_data=(x_test, to_categorical(y_test)))"
      ],
      "execution_count": null,
      "outputs": []
    },
    {
      "cell_type": "code",
      "metadata": {
        "id": "uk6BC8S3huDm"
      },
      "source": [
        "model.fit(x=x_train, y=to_categorical(y_train), epochs=10, validation_data=(x_test, y_test))"
      ],
      "execution_count": null,
      "outputs": []
    }
  ]
}